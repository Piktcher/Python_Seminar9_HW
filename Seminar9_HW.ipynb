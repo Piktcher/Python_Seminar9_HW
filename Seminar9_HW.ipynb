{
  "nbformat": 4,
  "nbformat_minor": 0,
  "metadata": {
    "colab": {
      "provenance": [],
      "authorship_tag": "ABX9TyMnbPOLByFc3NCiQYTyfjh0",
      "include_colab_link": true
    },
    "kernelspec": {
      "name": "python3",
      "display_name": "Python 3"
    },
    "language_info": {
      "name": "python"
    }
  },
  "cells": [
    {
      "cell_type": "markdown",
      "metadata": {
        "id": "view-in-github",
        "colab_type": "text"
      },
      "source": [
        "<a href=\"https://colab.research.google.com/github/Piktcher/Python_Seminar9_HW/blob/main/Seminar9_HW.ipynb\" target=\"_parent\"><img src=\"https://colab.research.google.com/assets/colab-badge.svg\" alt=\"Open In Colab\"/></a>"
      ]
    },
    {
      "cell_type": "code",
      "execution_count": 5,
      "metadata": {
        "id": "5EC4F542CXR4"
      },
      "outputs": [],
      "source": [
        "import pandas\n",
        "db = pandas.read_csv(\"/content/sample_data/california_housing_train.csv\")"
      ]
    },
    {
      "cell_type": "code",
      "source": [
        "# Task 40 Определить среднюю стоимость дома, где кол-во людей от 0 до 500 (population)\n",
        "print(f\"Средняя стоимость дома при населении до 500 человек равна {db[db['population'] < 500]['median_house_value'].mean()}\")"
      ],
      "metadata": {
        "colab": {
          "base_uri": "https://localhost:8080/"
        },
        "id": "BHDBZCs1C1YL",
        "outputId": "796d7c34-c561-4bba-aa8f-d821ef2368aa"
      },
      "execution_count": 18,
      "outputs": [
        {
          "output_type": "stream",
          "name": "stdout",
          "text": [
            "Средняя стоимость дома при населении до 500 человек равна 206683.83635227982\n"
          ]
        }
      ]
    },
    {
      "cell_type": "code",
      "source": [
        "# Task 42 Узнать какая максимальная households в зоне минимального значения population\n",
        "db[db['population'] == db['population'].min()]['households'].max()"
      ],
      "metadata": {
        "colab": {
          "base_uri": "https://localhost:8080/"
        },
        "id": "sNEwzz9gFQm3",
        "outputId": "189e9767-bfda-4b3d-d3e0-ec847e72a43e"
      },
      "execution_count": 20,
      "outputs": [
        {
          "output_type": "execute_result",
          "data": {
            "text/plain": [
              "4.0"
            ]
          },
          "metadata": {},
          "execution_count": 20
        }
      ]
    }
  ]
}